{
  "cells": [
    {
      "cell_type": "markdown",
      "metadata": {
        "id": "view-in-github",
        "colab_type": "text"
      },
      "source": [
        "<a href=\"https://colab.research.google.com/github/NivyaSreeAvula/hetro-repo/blob/master/EDA_for_cowin_jan_dec.ipynb\" target=\"_parent\"><img src=\"https://colab.research.google.com/assets/colab-badge.svg\" alt=\"Open In Colab\"/></a>"
      ]
    },
    {
      "cell_type": "code",
      "execution_count": 18,
      "metadata": {
        "colab": {
          "base_uri": "https://localhost:8080/"
        },
        "id": "YiAcqR2PvUrU",
        "outputId": "cd02cc18-9152-4df1-f968-ed515e563763"
      },
      "outputs": [
        {
          "output_type": "stream",
          "name": "stderr",
          "text": [
            "[nltk_data] Downloading package stopwords to /root/nltk_data...\n",
            "[nltk_data]   Package stopwords is already up-to-date!\n"
          ]
        }
      ],
      "source": [
        "import io\n",
        "import pandas as pd\n",
        "import string\n",
        "import spacy #natural language processor\n",
        "import nltk #natural language toolkit\n",
        "nltk.download('stopwords')\n",
        "import seaborn as sns\n",
        "import numpy as np\n",
        "import plotly.express as px\n",
        "import pylab\n",
        "import re\n",
        "from warnings import simplefilter\n",
        "from nltk.tokenize import word_tokenize\n",
        "from nltk.corpus import stopwords, wordnet\n",
        "from nltk.stem import WordNetLemmatizer\n",
        "\n",
        "from wordcloud import WordCloud, STOPWORDS\n",
        "from PIL import Image\n",
        "\n",
        "import random\n",
        "from textblob import TextBlob\n",
        "import unicodedata\n",
        "\n",
        "import matplotlib.pyplot as plt\n",
        "%matplotlib inline\n",
        "\n",
        "\n",
        "import nltk\n",
        "from nltk.util import ngrams\n",
        "from collections import Counter\n",
        "\n",
        "pd.options.mode.chained_assignment = None\n",
        "pd.set_option('display.max_colwidth', 100)"
      ]
    },
    {
      "cell_type": "code",
      "execution_count": null,
      "metadata": {
        "colab": {
          "background_save": true,
          "base_uri": "https://localhost:8080/",
          "height": 55
        },
        "id": "tgCplZXewH5-",
        "outputId": "13f73fdf-8b24-43f8-def1-26e614b4a506"
      },
      "outputs": [
        {
          "data": {
            "text/html": [
              "\n",
              "     <input type=\"file\" id=\"files-f89efb96-ec99-4a19-9180-fef181a2a7dd\" name=\"files[]\" multiple disabled\n",
              "        style=\"border:none\" />\n",
              "     <output id=\"result-f89efb96-ec99-4a19-9180-fef181a2a7dd\">\n",
              "      Upload widget is only available when the cell has been executed in the\n",
              "      current browser session. Please rerun this cell to enable.\n",
              "      </output>\n",
              "      <script>// Copyright 2017 Google LLC\n",
              "//\n",
              "// Licensed under the Apache License, Version 2.0 (the \"License\");\n",
              "// you may not use this file except in compliance with the License.\n",
              "// You may obtain a copy of the License at\n",
              "//\n",
              "//      http://www.apache.org/licenses/LICENSE-2.0\n",
              "//\n",
              "// Unless required by applicable law or agreed to in writing, software\n",
              "// distributed under the License is distributed on an \"AS IS\" BASIS,\n",
              "// WITHOUT WARRANTIES OR CONDITIONS OF ANY KIND, either express or implied.\n",
              "// See the License for the specific language governing permissions and\n",
              "// limitations under the License.\n",
              "\n",
              "/**\n",
              " * @fileoverview Helpers for google.colab Python module.\n",
              " */\n",
              "(function(scope) {\n",
              "function span(text, styleAttributes = {}) {\n",
              "  const element = document.createElement('span');\n",
              "  element.textContent = text;\n",
              "  for (const key of Object.keys(styleAttributes)) {\n",
              "    element.style[key] = styleAttributes[key];\n",
              "  }\n",
              "  return element;\n",
              "}\n",
              "\n",
              "// Max number of bytes which will be uploaded at a time.\n",
              "const MAX_PAYLOAD_SIZE = 100 * 1024;\n",
              "\n",
              "function _uploadFiles(inputId, outputId) {\n",
              "  const steps = uploadFilesStep(inputId, outputId);\n",
              "  const outputElement = document.getElementById(outputId);\n",
              "  // Cache steps on the outputElement to make it available for the next call\n",
              "  // to uploadFilesContinue from Python.\n",
              "  outputElement.steps = steps;\n",
              "\n",
              "  return _uploadFilesContinue(outputId);\n",
              "}\n",
              "\n",
              "// This is roughly an async generator (not supported in the browser yet),\n",
              "// where there are multiple asynchronous steps and the Python side is going\n",
              "// to poll for completion of each step.\n",
              "// This uses a Promise to block the python side on completion of each step,\n",
              "// then passes the result of the previous step as the input to the next step.\n",
              "function _uploadFilesContinue(outputId) {\n",
              "  const outputElement = document.getElementById(outputId);\n",
              "  const steps = outputElement.steps;\n",
              "\n",
              "  const next = steps.next(outputElement.lastPromiseValue);\n",
              "  return Promise.resolve(next.value.promise).then((value) => {\n",
              "    // Cache the last promise value to make it available to the next\n",
              "    // step of the generator.\n",
              "    outputElement.lastPromiseValue = value;\n",
              "    return next.value.response;\n",
              "  });\n",
              "}\n",
              "\n",
              "/**\n",
              " * Generator function which is called between each async step of the upload\n",
              " * process.\n",
              " * @param {string} inputId Element ID of the input file picker element.\n",
              " * @param {string} outputId Element ID of the output display.\n",
              " * @return {!Iterable<!Object>} Iterable of next steps.\n",
              " */\n",
              "function* uploadFilesStep(inputId, outputId) {\n",
              "  const inputElement = document.getElementById(inputId);\n",
              "  inputElement.disabled = false;\n",
              "\n",
              "  const outputElement = document.getElementById(outputId);\n",
              "  outputElement.innerHTML = '';\n",
              "\n",
              "  const pickedPromise = new Promise((resolve) => {\n",
              "    inputElement.addEventListener('change', (e) => {\n",
              "      resolve(e.target.files);\n",
              "    });\n",
              "  });\n",
              "\n",
              "  const cancel = document.createElement('button');\n",
              "  inputElement.parentElement.appendChild(cancel);\n",
              "  cancel.textContent = 'Cancel upload';\n",
              "  const cancelPromise = new Promise((resolve) => {\n",
              "    cancel.onclick = () => {\n",
              "      resolve(null);\n",
              "    };\n",
              "  });\n",
              "\n",
              "  // Wait for the user to pick the files.\n",
              "  const files = yield {\n",
              "    promise: Promise.race([pickedPromise, cancelPromise]),\n",
              "    response: {\n",
              "      action: 'starting',\n",
              "    }\n",
              "  };\n",
              "\n",
              "  cancel.remove();\n",
              "\n",
              "  // Disable the input element since further picks are not allowed.\n",
              "  inputElement.disabled = true;\n",
              "\n",
              "  if (!files) {\n",
              "    return {\n",
              "      response: {\n",
              "        action: 'complete',\n",
              "      }\n",
              "    };\n",
              "  }\n",
              "\n",
              "  for (const file of files) {\n",
              "    const li = document.createElement('li');\n",
              "    li.append(span(file.name, {fontWeight: 'bold'}));\n",
              "    li.append(span(\n",
              "        `(${file.type || 'n/a'}) - ${file.size} bytes, ` +\n",
              "        `last modified: ${\n",
              "            file.lastModifiedDate ? file.lastModifiedDate.toLocaleDateString() :\n",
              "                                    'n/a'} - `));\n",
              "    const percent = span('0% done');\n",
              "    li.appendChild(percent);\n",
              "\n",
              "    outputElement.appendChild(li);\n",
              "\n",
              "    const fileDataPromise = new Promise((resolve) => {\n",
              "      const reader = new FileReader();\n",
              "      reader.onload = (e) => {\n",
              "        resolve(e.target.result);\n",
              "      };\n",
              "      reader.readAsArrayBuffer(file);\n",
              "    });\n",
              "    // Wait for the data to be ready.\n",
              "    let fileData = yield {\n",
              "      promise: fileDataPromise,\n",
              "      response: {\n",
              "        action: 'continue',\n",
              "      }\n",
              "    };\n",
              "\n",
              "    // Use a chunked sending to avoid message size limits. See b/62115660.\n",
              "    let position = 0;\n",
              "    do {\n",
              "      const length = Math.min(fileData.byteLength - position, MAX_PAYLOAD_SIZE);\n",
              "      const chunk = new Uint8Array(fileData, position, length);\n",
              "      position += length;\n",
              "\n",
              "      const base64 = btoa(String.fromCharCode.apply(null, chunk));\n",
              "      yield {\n",
              "        response: {\n",
              "          action: 'append',\n",
              "          file: file.name,\n",
              "          data: base64,\n",
              "        },\n",
              "      };\n",
              "\n",
              "      let percentDone = fileData.byteLength === 0 ?\n",
              "          100 :\n",
              "          Math.round((position / fileData.byteLength) * 100);\n",
              "      percent.textContent = `${percentDone}% done`;\n",
              "\n",
              "    } while (position < fileData.byteLength);\n",
              "  }\n",
              "\n",
              "  // All done.\n",
              "  yield {\n",
              "    response: {\n",
              "      action: 'complete',\n",
              "    }\n",
              "  };\n",
              "}\n",
              "\n",
              "scope.google = scope.google || {};\n",
              "scope.google.colab = scope.google.colab || {};\n",
              "scope.google.colab._files = {\n",
              "  _uploadFiles,\n",
              "  _uploadFilesContinue,\n",
              "};\n",
              "})(self);\n",
              "</script> "
            ],
            "text/plain": [
              "<IPython.core.display.HTML object>"
            ]
          },
          "metadata": {},
          "output_type": "display_data"
        }
      ],
      "source": [
        "from google.colab import files\n",
        "uploaded = files.upload()\n",
        "raw = pd.read_csv(io.BytesIO(uploaded['tweets_dedup_jan_dec.csv']))"
      ]
    },
    {
      "cell_type": "code",
      "source": [
        "from google.colab import drive\n",
        "drive.mount('/content/drive')"
      ],
      "metadata": {
        "id": "EM3HCE43BLXn",
        "colab": {
          "base_uri": "https://localhost:8080/"
        },
        "outputId": "5ebe3332-c168-4dde-a4bf-99adc2534af8"
      },
      "execution_count": 2,
      "outputs": [
        {
          "output_type": "stream",
          "name": "stdout",
          "text": [
            "Mounted at /content/drive\n"
          ]
        }
      ]
    },
    {
      "cell_type": "code",
      "source": [
        "path = \"/content/drive/MyDrive/Colab Notebooks/tweets_dedup_jan_dec.csv\"\n",
        "raw = pd.read_csv(path, encoding = \"ISO-8859-1\",engine='python')  #trying to eliminate \"can't decode byte 0xa0\" errors"
      ],
      "metadata": {
        "id": "5keg0DoCCE-a"
      },
      "execution_count": 9,
      "outputs": []
    },
    {
      "cell_type": "code",
      "execution_count": 10,
      "metadata": {
        "id": "PUePguHgD6t9",
        "colab": {
          "base_uri": "https://localhost:8080/",
          "height": 739
        },
        "outputId": "9cd2474a-c849-4415-b5db-1dbca71fa4fc"
      },
      "outputs": [
        {
          "output_type": "execute_result",
          "data": {
            "text/plain": [
              "   Unnamed: 0            author_id                created_at lang  like_count  \\\n",
              "0           1  1338759702008614915  2021-01-02T13:50:34.000Z   tl           0   \n",
              "1           2   978957208686755841  2021-01-02T13:49:32.000Z   en           0   \n",
              "2           3            102706517  2021-01-02T13:34:38.000Z   en           0   \n",
              "3           4             55193817  2021-01-02T13:28:18.000Z   hi           3   \n",
              "4           5   921981573297328128  2021-01-02T13:03:35.000Z   en           2   \n",
              "\n",
              "   quote_count  \\\n",
              "0            0   \n",
              "1            0   \n",
              "2            0   \n",
              "3            0   \n",
              "4            0   \n",
              "\n",
              "                                                                                                  text  \\\n",
              "0                                                           @6waificee LAKAS NAMAN NUNG COWIN WBAHHAHA   \n",
              "1  @PriyankaJShukla @MoHFW_INDIA @drharshvardhan @ChhattisgarhCMO Hi, can you please share the deta...   \n",
              "2  @indiatvnews Could not find #CoWIN #CowinApp on play store.. can you please share the link to do...   \n",
              "3  Corona Vaccine <U+0932><U+0917><U+0935><U+093E><U+0928><U+0947> <U+0915><U+0947> <U+0932><U+093F...   \n",
              "4                                                             @Sideshow_Matt @Caorthannach Cowin lush!   \n",
              "\n",
              "              tweet_id  retweet_count  user_username  sourcetweet_type  \\\n",
              "0  1345366878680616961              0      skyemrtnz               NaN   \n",
              "1  1345366619476828165              0  ManogharanRam               NaN   \n",
              "2  1345362872092643330              0  sanjeevXarora               NaN   \n",
              "3  1345361274989731841              1    PatrikaNews               NaN   \n",
              "4  1345355055873060865              0  LeilaTavibird               NaN   \n",
              "\n",
              "   sourcetweet_text  \n",
              "0               NaN  \n",
              "1               NaN  \n",
              "2               NaN  \n",
              "3               NaN  \n",
              "4               NaN  "
            ],
            "text/html": [
              "\n",
              "  <div id=\"df-f4df2c19-bf58-4248-a068-5e36859133a2\">\n",
              "    <div class=\"colab-df-container\">\n",
              "      <div>\n",
              "<style scoped>\n",
              "    .dataframe tbody tr th:only-of-type {\n",
              "        vertical-align: middle;\n",
              "    }\n",
              "\n",
              "    .dataframe tbody tr th {\n",
              "        vertical-align: top;\n",
              "    }\n",
              "\n",
              "    .dataframe thead th {\n",
              "        text-align: right;\n",
              "    }\n",
              "</style>\n",
              "<table border=\"1\" class=\"dataframe\">\n",
              "  <thead>\n",
              "    <tr style=\"text-align: right;\">\n",
              "      <th></th>\n",
              "      <th>Unnamed: 0</th>\n",
              "      <th>author_id</th>\n",
              "      <th>created_at</th>\n",
              "      <th>lang</th>\n",
              "      <th>like_count</th>\n",
              "      <th>quote_count</th>\n",
              "      <th>text</th>\n",
              "      <th>tweet_id</th>\n",
              "      <th>retweet_count</th>\n",
              "      <th>user_username</th>\n",
              "      <th>sourcetweet_type</th>\n",
              "      <th>sourcetweet_text</th>\n",
              "    </tr>\n",
              "  </thead>\n",
              "  <tbody>\n",
              "    <tr>\n",
              "      <th>0</th>\n",
              "      <td>1</td>\n",
              "      <td>1338759702008614915</td>\n",
              "      <td>2021-01-02T13:50:34.000Z</td>\n",
              "      <td>tl</td>\n",
              "      <td>0</td>\n",
              "      <td>0</td>\n",
              "      <td>@6waificee LAKAS NAMAN NUNG COWIN WBAHHAHA</td>\n",
              "      <td>1345366878680616961</td>\n",
              "      <td>0</td>\n",
              "      <td>skyemrtnz</td>\n",
              "      <td>NaN</td>\n",
              "      <td>NaN</td>\n",
              "    </tr>\n",
              "    <tr>\n",
              "      <th>1</th>\n",
              "      <td>2</td>\n",
              "      <td>978957208686755841</td>\n",
              "      <td>2021-01-02T13:49:32.000Z</td>\n",
              "      <td>en</td>\n",
              "      <td>0</td>\n",
              "      <td>0</td>\n",
              "      <td>@PriyankaJShukla @MoHFW_INDIA @drharshvardhan @ChhattisgarhCMO Hi, can you please share the deta...</td>\n",
              "      <td>1345366619476828165</td>\n",
              "      <td>0</td>\n",
              "      <td>ManogharanRam</td>\n",
              "      <td>NaN</td>\n",
              "      <td>NaN</td>\n",
              "    </tr>\n",
              "    <tr>\n",
              "      <th>2</th>\n",
              "      <td>3</td>\n",
              "      <td>102706517</td>\n",
              "      <td>2021-01-02T13:34:38.000Z</td>\n",
              "      <td>en</td>\n",
              "      <td>0</td>\n",
              "      <td>0</td>\n",
              "      <td>@indiatvnews Could not find #CoWIN #CowinApp on play store.. can you please share the link to do...</td>\n",
              "      <td>1345362872092643330</td>\n",
              "      <td>0</td>\n",
              "      <td>sanjeevXarora</td>\n",
              "      <td>NaN</td>\n",
              "      <td>NaN</td>\n",
              "    </tr>\n",
              "    <tr>\n",
              "      <th>3</th>\n",
              "      <td>4</td>\n",
              "      <td>55193817</td>\n",
              "      <td>2021-01-02T13:28:18.000Z</td>\n",
              "      <td>hi</td>\n",
              "      <td>3</td>\n",
              "      <td>0</td>\n",
              "      <td>Corona Vaccine &lt;U+0932&gt;&lt;U+0917&gt;&lt;U+0935&gt;&lt;U+093E&gt;&lt;U+0928&gt;&lt;U+0947&gt; &lt;U+0915&gt;&lt;U+0947&gt; &lt;U+0932&gt;&lt;U+093F...</td>\n",
              "      <td>1345361274989731841</td>\n",
              "      <td>1</td>\n",
              "      <td>PatrikaNews</td>\n",
              "      <td>NaN</td>\n",
              "      <td>NaN</td>\n",
              "    </tr>\n",
              "    <tr>\n",
              "      <th>4</th>\n",
              "      <td>5</td>\n",
              "      <td>921981573297328128</td>\n",
              "      <td>2021-01-02T13:03:35.000Z</td>\n",
              "      <td>en</td>\n",
              "      <td>2</td>\n",
              "      <td>0</td>\n",
              "      <td>@Sideshow_Matt @Caorthannach Cowin lush!</td>\n",
              "      <td>1345355055873060865</td>\n",
              "      <td>0</td>\n",
              "      <td>LeilaTavibird</td>\n",
              "      <td>NaN</td>\n",
              "      <td>NaN</td>\n",
              "    </tr>\n",
              "  </tbody>\n",
              "</table>\n",
              "</div>\n",
              "      <button class=\"colab-df-convert\" onclick=\"convertToInteractive('df-f4df2c19-bf58-4248-a068-5e36859133a2')\"\n",
              "              title=\"Convert this dataframe to an interactive table.\"\n",
              "              style=\"display:none;\">\n",
              "        \n",
              "  <svg xmlns=\"http://www.w3.org/2000/svg\" height=\"24px\"viewBox=\"0 0 24 24\"\n",
              "       width=\"24px\">\n",
              "    <path d=\"M0 0h24v24H0V0z\" fill=\"none\"/>\n",
              "    <path d=\"M18.56 5.44l.94 2.06.94-2.06 2.06-.94-2.06-.94-.94-2.06-.94 2.06-2.06.94zm-11 1L8.5 8.5l.94-2.06 2.06-.94-2.06-.94L8.5 2.5l-.94 2.06-2.06.94zm10 10l.94 2.06.94-2.06 2.06-.94-2.06-.94-.94-2.06-.94 2.06-2.06.94z\"/><path d=\"M17.41 7.96l-1.37-1.37c-.4-.4-.92-.59-1.43-.59-.52 0-1.04.2-1.43.59L10.3 9.45l-7.72 7.72c-.78.78-.78 2.05 0 2.83L4 21.41c.39.39.9.59 1.41.59.51 0 1.02-.2 1.41-.59l7.78-7.78 2.81-2.81c.8-.78.8-2.07 0-2.86zM5.41 20L4 18.59l7.72-7.72 1.47 1.35L5.41 20z\"/>\n",
              "  </svg>\n",
              "      </button>\n",
              "      \n",
              "  <style>\n",
              "    .colab-df-container {\n",
              "      display:flex;\n",
              "      flex-wrap:wrap;\n",
              "      gap: 12px;\n",
              "    }\n",
              "\n",
              "    .colab-df-convert {\n",
              "      background-color: #E8F0FE;\n",
              "      border: none;\n",
              "      border-radius: 50%;\n",
              "      cursor: pointer;\n",
              "      display: none;\n",
              "      fill: #1967D2;\n",
              "      height: 32px;\n",
              "      padding: 0 0 0 0;\n",
              "      width: 32px;\n",
              "    }\n",
              "\n",
              "    .colab-df-convert:hover {\n",
              "      background-color: #E2EBFA;\n",
              "      box-shadow: 0px 1px 2px rgba(60, 64, 67, 0.3), 0px 1px 3px 1px rgba(60, 64, 67, 0.15);\n",
              "      fill: #174EA6;\n",
              "    }\n",
              "\n",
              "    [theme=dark] .colab-df-convert {\n",
              "      background-color: #3B4455;\n",
              "      fill: #D2E3FC;\n",
              "    }\n",
              "\n",
              "    [theme=dark] .colab-df-convert:hover {\n",
              "      background-color: #434B5C;\n",
              "      box-shadow: 0px 1px 3px 1px rgba(0, 0, 0, 0.15);\n",
              "      filter: drop-shadow(0px 1px 2px rgba(0, 0, 0, 0.3));\n",
              "      fill: #FFFFFF;\n",
              "    }\n",
              "  </style>\n",
              "\n",
              "      <script>\n",
              "        const buttonEl =\n",
              "          document.querySelector('#df-f4df2c19-bf58-4248-a068-5e36859133a2 button.colab-df-convert');\n",
              "        buttonEl.style.display =\n",
              "          google.colab.kernel.accessAllowed ? 'block' : 'none';\n",
              "\n",
              "        async function convertToInteractive(key) {\n",
              "          const element = document.querySelector('#df-f4df2c19-bf58-4248-a068-5e36859133a2');\n",
              "          const dataTable =\n",
              "            await google.colab.kernel.invokeFunction('convertToInteractive',\n",
              "                                                     [key], {});\n",
              "          if (!dataTable) return;\n",
              "\n",
              "          const docLinkHtml = 'Like what you see? Visit the ' +\n",
              "            '<a target=\"_blank\" href=https://colab.research.google.com/notebooks/data_table.ipynb>data table notebook</a>'\n",
              "            + ' to learn more about interactive tables.';\n",
              "          element.innerHTML = '';\n",
              "          dataTable['output_type'] = 'display_data';\n",
              "          await google.colab.output.renderOutput(dataTable, element);\n",
              "          const docLink = document.createElement('div');\n",
              "          docLink.innerHTML = docLinkHtml;\n",
              "          element.appendChild(docLink);\n",
              "        }\n",
              "      </script>\n",
              "    </div>\n",
              "  </div>\n",
              "  "
            ]
          },
          "metadata": {},
          "execution_count": 10
        }
      ],
      "source": [
        "raw.head()"
      ]
    },
    {
      "cell_type": "markdown",
      "source": [
        "#EDA \n"
      ],
      "metadata": {
        "id": "Tt0RWDzUOD1v"
      }
    },
    {
      "cell_type": "code",
      "execution_count": 11,
      "metadata": {
        "id": "vo7Vjx2xwRIB",
        "colab": {
          "base_uri": "https://localhost:8080/"
        },
        "outputId": "2c089e9e-5af7-4793-a11f-88095fa3f68d"
      },
      "outputs": [
        {
          "output_type": "stream",
          "name": "stdout",
          "text": [
            "total number of data received \n",
            "Number of rows in twitter data: 635587\n",
            "Number of columns in twitter data :12\n",
            "Number of values in twitter data:6355870\n",
            "Number missing values in twitter data:1271174\n"
          ]
        }
      ],
      "source": [
        "print(\"total number of data received \")\n",
        "print(f'Number of rows in twitter data: {raw.shape[0]}')\n",
        "print(f'Number of columns in twitter data :{raw.shape[1]}' )\n",
        "print(f'Number of values in twitter data:{ raw.count().sum()}')\n",
        "print(f'Number missing values in twitter data:{sum(raw.isna().sum())}' )"
      ]
    },
    {
      "cell_type": "code",
      "source": [
        "raw.describe()"
      ],
      "metadata": {
        "colab": {
          "base_uri": "https://localhost:8080/",
          "height": 364
        },
        "id": "o50hAECOOE-U",
        "outputId": "bd39fc8b-ae2a-498c-bd14-62f7035bb4e6"
      },
      "execution_count": 12,
      "outputs": [
        {
          "output_type": "execute_result",
          "data": {
            "text/plain": [
              "          Unnamed: 0     author_id     like_count    quote_count  \\\n",
              "count  635587.000000  6.355870e+05  635587.000000  635587.000000   \n",
              "mean   317794.000000  1.091820e+18       4.168306       0.063710   \n",
              "std    183478.307109  5.427855e+17     179.183101       2.825672   \n",
              "min         1.000000  3.160000e+03       0.000000       0.000000   \n",
              "25%    158897.500000  1.096395e+18       0.000000       0.000000   \n",
              "50%    317794.000000  1.396819e+18       0.000000       0.000000   \n",
              "75%    476690.500000  1.399366e+18       0.000000       0.000000   \n",
              "max    635587.000000  1.476102e+18   99448.000000    1148.000000   \n",
              "\n",
              "           tweet_id  retweet_count  sourcetweet_type  sourcetweet_text  \n",
              "count  6.355870e+05  635587.000000               0.0               0.0  \n",
              "mean   1.412805e+18       0.839759               NaN               NaN  \n",
              "std    1.839734e+16      29.856717               NaN               NaN  \n",
              "min    1.344803e+18       0.000000               NaN               NaN  \n",
              "25%    1.402112e+18       0.000000               NaN               NaN  \n",
              "50%    1.413709e+18       0.000000               NaN               NaN  \n",
              "75%    1.424201e+18       0.000000               NaN               NaN  \n",
              "max    1.476336e+18   13771.000000               NaN               NaN  "
            ],
            "text/html": [
              "\n",
              "  <div id=\"df-7cdaff1d-9885-4089-974f-2639e76cc8f6\">\n",
              "    <div class=\"colab-df-container\">\n",
              "      <div>\n",
              "<style scoped>\n",
              "    .dataframe tbody tr th:only-of-type {\n",
              "        vertical-align: middle;\n",
              "    }\n",
              "\n",
              "    .dataframe tbody tr th {\n",
              "        vertical-align: top;\n",
              "    }\n",
              "\n",
              "    .dataframe thead th {\n",
              "        text-align: right;\n",
              "    }\n",
              "</style>\n",
              "<table border=\"1\" class=\"dataframe\">\n",
              "  <thead>\n",
              "    <tr style=\"text-align: right;\">\n",
              "      <th></th>\n",
              "      <th>Unnamed: 0</th>\n",
              "      <th>author_id</th>\n",
              "      <th>like_count</th>\n",
              "      <th>quote_count</th>\n",
              "      <th>tweet_id</th>\n",
              "      <th>retweet_count</th>\n",
              "      <th>sourcetweet_type</th>\n",
              "      <th>sourcetweet_text</th>\n",
              "    </tr>\n",
              "  </thead>\n",
              "  <tbody>\n",
              "    <tr>\n",
              "      <th>count</th>\n",
              "      <td>635587.000000</td>\n",
              "      <td>6.355870e+05</td>\n",
              "      <td>635587.000000</td>\n",
              "      <td>635587.000000</td>\n",
              "      <td>6.355870e+05</td>\n",
              "      <td>635587.000000</td>\n",
              "      <td>0.0</td>\n",
              "      <td>0.0</td>\n",
              "    </tr>\n",
              "    <tr>\n",
              "      <th>mean</th>\n",
              "      <td>317794.000000</td>\n",
              "      <td>1.091820e+18</td>\n",
              "      <td>4.168306</td>\n",
              "      <td>0.063710</td>\n",
              "      <td>1.412805e+18</td>\n",
              "      <td>0.839759</td>\n",
              "      <td>NaN</td>\n",
              "      <td>NaN</td>\n",
              "    </tr>\n",
              "    <tr>\n",
              "      <th>std</th>\n",
              "      <td>183478.307109</td>\n",
              "      <td>5.427855e+17</td>\n",
              "      <td>179.183101</td>\n",
              "      <td>2.825672</td>\n",
              "      <td>1.839734e+16</td>\n",
              "      <td>29.856717</td>\n",
              "      <td>NaN</td>\n",
              "      <td>NaN</td>\n",
              "    </tr>\n",
              "    <tr>\n",
              "      <th>min</th>\n",
              "      <td>1.000000</td>\n",
              "      <td>3.160000e+03</td>\n",
              "      <td>0.000000</td>\n",
              "      <td>0.000000</td>\n",
              "      <td>1.344803e+18</td>\n",
              "      <td>0.000000</td>\n",
              "      <td>NaN</td>\n",
              "      <td>NaN</td>\n",
              "    </tr>\n",
              "    <tr>\n",
              "      <th>25%</th>\n",
              "      <td>158897.500000</td>\n",
              "      <td>1.096395e+18</td>\n",
              "      <td>0.000000</td>\n",
              "      <td>0.000000</td>\n",
              "      <td>1.402112e+18</td>\n",
              "      <td>0.000000</td>\n",
              "      <td>NaN</td>\n",
              "      <td>NaN</td>\n",
              "    </tr>\n",
              "    <tr>\n",
              "      <th>50%</th>\n",
              "      <td>317794.000000</td>\n",
              "      <td>1.396819e+18</td>\n",
              "      <td>0.000000</td>\n",
              "      <td>0.000000</td>\n",
              "      <td>1.413709e+18</td>\n",
              "      <td>0.000000</td>\n",
              "      <td>NaN</td>\n",
              "      <td>NaN</td>\n",
              "    </tr>\n",
              "    <tr>\n",
              "      <th>75%</th>\n",
              "      <td>476690.500000</td>\n",
              "      <td>1.399366e+18</td>\n",
              "      <td>0.000000</td>\n",
              "      <td>0.000000</td>\n",
              "      <td>1.424201e+18</td>\n",
              "      <td>0.000000</td>\n",
              "      <td>NaN</td>\n",
              "      <td>NaN</td>\n",
              "    </tr>\n",
              "    <tr>\n",
              "      <th>max</th>\n",
              "      <td>635587.000000</td>\n",
              "      <td>1.476102e+18</td>\n",
              "      <td>99448.000000</td>\n",
              "      <td>1148.000000</td>\n",
              "      <td>1.476336e+18</td>\n",
              "      <td>13771.000000</td>\n",
              "      <td>NaN</td>\n",
              "      <td>NaN</td>\n",
              "    </tr>\n",
              "  </tbody>\n",
              "</table>\n",
              "</div>\n",
              "      <button class=\"colab-df-convert\" onclick=\"convertToInteractive('df-7cdaff1d-9885-4089-974f-2639e76cc8f6')\"\n",
              "              title=\"Convert this dataframe to an interactive table.\"\n",
              "              style=\"display:none;\">\n",
              "        \n",
              "  <svg xmlns=\"http://www.w3.org/2000/svg\" height=\"24px\"viewBox=\"0 0 24 24\"\n",
              "       width=\"24px\">\n",
              "    <path d=\"M0 0h24v24H0V0z\" fill=\"none\"/>\n",
              "    <path d=\"M18.56 5.44l.94 2.06.94-2.06 2.06-.94-2.06-.94-.94-2.06-.94 2.06-2.06.94zm-11 1L8.5 8.5l.94-2.06 2.06-.94-2.06-.94L8.5 2.5l-.94 2.06-2.06.94zm10 10l.94 2.06.94-2.06 2.06-.94-2.06-.94-.94-2.06-.94 2.06-2.06.94z\"/><path d=\"M17.41 7.96l-1.37-1.37c-.4-.4-.92-.59-1.43-.59-.52 0-1.04.2-1.43.59L10.3 9.45l-7.72 7.72c-.78.78-.78 2.05 0 2.83L4 21.41c.39.39.9.59 1.41.59.51 0 1.02-.2 1.41-.59l7.78-7.78 2.81-2.81c.8-.78.8-2.07 0-2.86zM5.41 20L4 18.59l7.72-7.72 1.47 1.35L5.41 20z\"/>\n",
              "  </svg>\n",
              "      </button>\n",
              "      \n",
              "  <style>\n",
              "    .colab-df-container {\n",
              "      display:flex;\n",
              "      flex-wrap:wrap;\n",
              "      gap: 12px;\n",
              "    }\n",
              "\n",
              "    .colab-df-convert {\n",
              "      background-color: #E8F0FE;\n",
              "      border: none;\n",
              "      border-radius: 50%;\n",
              "      cursor: pointer;\n",
              "      display: none;\n",
              "      fill: #1967D2;\n",
              "      height: 32px;\n",
              "      padding: 0 0 0 0;\n",
              "      width: 32px;\n",
              "    }\n",
              "\n",
              "    .colab-df-convert:hover {\n",
              "      background-color: #E2EBFA;\n",
              "      box-shadow: 0px 1px 2px rgba(60, 64, 67, 0.3), 0px 1px 3px 1px rgba(60, 64, 67, 0.15);\n",
              "      fill: #174EA6;\n",
              "    }\n",
              "\n",
              "    [theme=dark] .colab-df-convert {\n",
              "      background-color: #3B4455;\n",
              "      fill: #D2E3FC;\n",
              "    }\n",
              "\n",
              "    [theme=dark] .colab-df-convert:hover {\n",
              "      background-color: #434B5C;\n",
              "      box-shadow: 0px 1px 3px 1px rgba(0, 0, 0, 0.15);\n",
              "      filter: drop-shadow(0px 1px 2px rgba(0, 0, 0, 0.3));\n",
              "      fill: #FFFFFF;\n",
              "    }\n",
              "  </style>\n",
              "\n",
              "      <script>\n",
              "        const buttonEl =\n",
              "          document.querySelector('#df-7cdaff1d-9885-4089-974f-2639e76cc8f6 button.colab-df-convert');\n",
              "        buttonEl.style.display =\n",
              "          google.colab.kernel.accessAllowed ? 'block' : 'none';\n",
              "\n",
              "        async function convertToInteractive(key) {\n",
              "          const element = document.querySelector('#df-7cdaff1d-9885-4089-974f-2639e76cc8f6');\n",
              "          const dataTable =\n",
              "            await google.colab.kernel.invokeFunction('convertToInteractive',\n",
              "                                                     [key], {});\n",
              "          if (!dataTable) return;\n",
              "\n",
              "          const docLinkHtml = 'Like what you see? Visit the ' +\n",
              "            '<a target=\"_blank\" href=https://colab.research.google.com/notebooks/data_table.ipynb>data table notebook</a>'\n",
              "            + ' to learn more about interactive tables.';\n",
              "          element.innerHTML = '';\n",
              "          dataTable['output_type'] = 'display_data';\n",
              "          await google.colab.output.renderOutput(dataTable, element);\n",
              "          const docLink = document.createElement('div');\n",
              "          docLink.innerHTML = docLinkHtml;\n",
              "          element.appendChild(docLink);\n",
              "        }\n",
              "      </script>\n",
              "    </div>\n",
              "  </div>\n",
              "  "
            ]
          },
          "metadata": {},
          "execution_count": 12
        }
      ]
    },
    {
      "cell_type": "code",
      "source": [
        "raw.drop(columns=[\"Unnamed: 0\",'author_id', \"tweet_id\", \"user_username\", \"sourcetweet_type\",\"sourcetweet_text\"], inplace= True)"
      ],
      "metadata": {
        "id": "PAKS1UzsOPta"
      },
      "execution_count": 13,
      "outputs": []
    },
    {
      "cell_type": "code",
      "source": [
        "print(\"total number of data received \")\n",
        "print(f'Number of values in twitter data:{ raw.count().sum()}')\n",
        "print(f'Number missing values in twitter data:{sum(raw.isna().sum())}' )"
      ],
      "metadata": {
        "colab": {
          "base_uri": "https://localhost:8080/"
        },
        "id": "Iohivd35PPAJ",
        "outputId": "56c2bb01-1052-47af-e7f4-037ed5a7790c"
      },
      "execution_count": 14,
      "outputs": [
        {
          "output_type": "stream",
          "name": "stdout",
          "text": [
            "total number of data received \n",
            "Number of values in twitter data:3813522\n",
            "Number missing values in twitter data:0\n"
          ]
        }
      ]
    },
    {
      "cell_type": "markdown",
      "source": [
        "##Things to do \n",
        "\n",
        "1.   see how many languages are in this data set\n",
        "2.   Top 10 languages\n",
        "3.   separate en tweets and process it\n",
        "\n",
        "\n",
        "\n",
        "\n"
      ],
      "metadata": {
        "id": "tNxClL9_PiQx"
      }
    },
    {
      "cell_type": "code",
      "source": [
        "le= pd.value_counts(raw['lang'].sort_values(ascending = False)).rename_axis('unique_languages').to_frame('counts')"
      ],
      "metadata": {
        "id": "bndnBfNIPhDP"
      },
      "execution_count": 15,
      "outputs": []
    },
    {
      "cell_type": "code",
      "source": [
        "le= le.reset_index()\n",
        "le"
      ],
      "metadata": {
        "colab": {
          "base_uri": "https://localhost:8080/",
          "height": 1000
        },
        "id": "cwD1sEYCRc15",
        "outputId": "61dbcc0e-e2aa-416a-d861-52d8231d2fab"
      },
      "execution_count": 16,
      "outputs": [
        {
          "output_type": "execute_result",
          "data": {
            "text/plain": [
              "   unique_languages  counts\n",
              "0                en  528732\n",
              "1                tl   35072\n",
              "2                hi   34637\n",
              "3                ro    5242\n",
              "4                in    3851\n",
              "5                et    3638\n",
              "6               und    3021\n",
              "7                fr    2923\n",
              "8               qme    2756\n",
              "9                mr    1927\n",
              "10              zxx    1917\n",
              "11               ht    1877\n",
              "12               ta    1772\n",
              "13               ja    1235\n",
              "14               gu    1147\n",
              "15               or     844\n",
              "16               fi     605\n",
              "17               bn     598\n",
              "18               kn     581\n",
              "19               ml     522\n",
              "20               te     511\n",
              "21               cs     435\n",
              "22               es     383\n",
              "23               ca     366\n",
              "24              qht     232\n",
              "25               de      84\n",
              "26               pa      77\n",
              "27               it      71\n",
              "28               pl      57\n",
              "29               da      53\n",
              "30               nl      52\n",
              "31               pt      48\n",
              "32               ur      39\n",
              "33               ru      39\n",
              "34               sv      35\n",
              "35               sl      31\n",
              "36               ar      27\n",
              "37               tr      23\n",
              "38               lt      22\n",
              "39               cy      21\n",
              "40              qam      19\n",
              "41               no      15\n",
              "42               vi      11\n",
              "43               ne      10\n",
              "44               eu       8\n",
              "45               ko       5\n",
              "46               zh       4\n",
              "47               iw       3\n",
              "48               th       3\n",
              "49               is       2\n",
              "50               si       2\n",
              "51               hu       1\n",
              "52               el       1"
            ],
            "text/html": [
              "\n",
              "  <div id=\"df-d9c4d70a-7b7a-428f-9132-acf016376a30\">\n",
              "    <div class=\"colab-df-container\">\n",
              "      <div>\n",
              "<style scoped>\n",
              "    .dataframe tbody tr th:only-of-type {\n",
              "        vertical-align: middle;\n",
              "    }\n",
              "\n",
              "    .dataframe tbody tr th {\n",
              "        vertical-align: top;\n",
              "    }\n",
              "\n",
              "    .dataframe thead th {\n",
              "        text-align: right;\n",
              "    }\n",
              "</style>\n",
              "<table border=\"1\" class=\"dataframe\">\n",
              "  <thead>\n",
              "    <tr style=\"text-align: right;\">\n",
              "      <th></th>\n",
              "      <th>unique_languages</th>\n",
              "      <th>counts</th>\n",
              "    </tr>\n",
              "  </thead>\n",
              "  <tbody>\n",
              "    <tr>\n",
              "      <th>0</th>\n",
              "      <td>en</td>\n",
              "      <td>528732</td>\n",
              "    </tr>\n",
              "    <tr>\n",
              "      <th>1</th>\n",
              "      <td>tl</td>\n",
              "      <td>35072</td>\n",
              "    </tr>\n",
              "    <tr>\n",
              "      <th>2</th>\n",
              "      <td>hi</td>\n",
              "      <td>34637</td>\n",
              "    </tr>\n",
              "    <tr>\n",
              "      <th>3</th>\n",
              "      <td>ro</td>\n",
              "      <td>5242</td>\n",
              "    </tr>\n",
              "    <tr>\n",
              "      <th>4</th>\n",
              "      <td>in</td>\n",
              "      <td>3851</td>\n",
              "    </tr>\n",
              "    <tr>\n",
              "      <th>5</th>\n",
              "      <td>et</td>\n",
              "      <td>3638</td>\n",
              "    </tr>\n",
              "    <tr>\n",
              "      <th>6</th>\n",
              "      <td>und</td>\n",
              "      <td>3021</td>\n",
              "    </tr>\n",
              "    <tr>\n",
              "      <th>7</th>\n",
              "      <td>fr</td>\n",
              "      <td>2923</td>\n",
              "    </tr>\n",
              "    <tr>\n",
              "      <th>8</th>\n",
              "      <td>qme</td>\n",
              "      <td>2756</td>\n",
              "    </tr>\n",
              "    <tr>\n",
              "      <th>9</th>\n",
              "      <td>mr</td>\n",
              "      <td>1927</td>\n",
              "    </tr>\n",
              "    <tr>\n",
              "      <th>10</th>\n",
              "      <td>zxx</td>\n",
              "      <td>1917</td>\n",
              "    </tr>\n",
              "    <tr>\n",
              "      <th>11</th>\n",
              "      <td>ht</td>\n",
              "      <td>1877</td>\n",
              "    </tr>\n",
              "    <tr>\n",
              "      <th>12</th>\n",
              "      <td>ta</td>\n",
              "      <td>1772</td>\n",
              "    </tr>\n",
              "    <tr>\n",
              "      <th>13</th>\n",
              "      <td>ja</td>\n",
              "      <td>1235</td>\n",
              "    </tr>\n",
              "    <tr>\n",
              "      <th>14</th>\n",
              "      <td>gu</td>\n",
              "      <td>1147</td>\n",
              "    </tr>\n",
              "    <tr>\n",
              "      <th>15</th>\n",
              "      <td>or</td>\n",
              "      <td>844</td>\n",
              "    </tr>\n",
              "    <tr>\n",
              "      <th>16</th>\n",
              "      <td>fi</td>\n",
              "      <td>605</td>\n",
              "    </tr>\n",
              "    <tr>\n",
              "      <th>17</th>\n",
              "      <td>bn</td>\n",
              "      <td>598</td>\n",
              "    </tr>\n",
              "    <tr>\n",
              "      <th>18</th>\n",
              "      <td>kn</td>\n",
              "      <td>581</td>\n",
              "    </tr>\n",
              "    <tr>\n",
              "      <th>19</th>\n",
              "      <td>ml</td>\n",
              "      <td>522</td>\n",
              "    </tr>\n",
              "    <tr>\n",
              "      <th>20</th>\n",
              "      <td>te</td>\n",
              "      <td>511</td>\n",
              "    </tr>\n",
              "    <tr>\n",
              "      <th>21</th>\n",
              "      <td>cs</td>\n",
              "      <td>435</td>\n",
              "    </tr>\n",
              "    <tr>\n",
              "      <th>22</th>\n",
              "      <td>es</td>\n",
              "      <td>383</td>\n",
              "    </tr>\n",
              "    <tr>\n",
              "      <th>23</th>\n",
              "      <td>ca</td>\n",
              "      <td>366</td>\n",
              "    </tr>\n",
              "    <tr>\n",
              "      <th>24</th>\n",
              "      <td>qht</td>\n",
              "      <td>232</td>\n",
              "    </tr>\n",
              "    <tr>\n",
              "      <th>25</th>\n",
              "      <td>de</td>\n",
              "      <td>84</td>\n",
              "    </tr>\n",
              "    <tr>\n",
              "      <th>26</th>\n",
              "      <td>pa</td>\n",
              "      <td>77</td>\n",
              "    </tr>\n",
              "    <tr>\n",
              "      <th>27</th>\n",
              "      <td>it</td>\n",
              "      <td>71</td>\n",
              "    </tr>\n",
              "    <tr>\n",
              "      <th>28</th>\n",
              "      <td>pl</td>\n",
              "      <td>57</td>\n",
              "    </tr>\n",
              "    <tr>\n",
              "      <th>29</th>\n",
              "      <td>da</td>\n",
              "      <td>53</td>\n",
              "    </tr>\n",
              "    <tr>\n",
              "      <th>30</th>\n",
              "      <td>nl</td>\n",
              "      <td>52</td>\n",
              "    </tr>\n",
              "    <tr>\n",
              "      <th>31</th>\n",
              "      <td>pt</td>\n",
              "      <td>48</td>\n",
              "    </tr>\n",
              "    <tr>\n",
              "      <th>32</th>\n",
              "      <td>ur</td>\n",
              "      <td>39</td>\n",
              "    </tr>\n",
              "    <tr>\n",
              "      <th>33</th>\n",
              "      <td>ru</td>\n",
              "      <td>39</td>\n",
              "    </tr>\n",
              "    <tr>\n",
              "      <th>34</th>\n",
              "      <td>sv</td>\n",
              "      <td>35</td>\n",
              "    </tr>\n",
              "    <tr>\n",
              "      <th>35</th>\n",
              "      <td>sl</td>\n",
              "      <td>31</td>\n",
              "    </tr>\n",
              "    <tr>\n",
              "      <th>36</th>\n",
              "      <td>ar</td>\n",
              "      <td>27</td>\n",
              "    </tr>\n",
              "    <tr>\n",
              "      <th>37</th>\n",
              "      <td>tr</td>\n",
              "      <td>23</td>\n",
              "    </tr>\n",
              "    <tr>\n",
              "      <th>38</th>\n",
              "      <td>lt</td>\n",
              "      <td>22</td>\n",
              "    </tr>\n",
              "    <tr>\n",
              "      <th>39</th>\n",
              "      <td>cy</td>\n",
              "      <td>21</td>\n",
              "    </tr>\n",
              "    <tr>\n",
              "      <th>40</th>\n",
              "      <td>qam</td>\n",
              "      <td>19</td>\n",
              "    </tr>\n",
              "    <tr>\n",
              "      <th>41</th>\n",
              "      <td>no</td>\n",
              "      <td>15</td>\n",
              "    </tr>\n",
              "    <tr>\n",
              "      <th>42</th>\n",
              "      <td>vi</td>\n",
              "      <td>11</td>\n",
              "    </tr>\n",
              "    <tr>\n",
              "      <th>43</th>\n",
              "      <td>ne</td>\n",
              "      <td>10</td>\n",
              "    </tr>\n",
              "    <tr>\n",
              "      <th>44</th>\n",
              "      <td>eu</td>\n",
              "      <td>8</td>\n",
              "    </tr>\n",
              "    <tr>\n",
              "      <th>45</th>\n",
              "      <td>ko</td>\n",
              "      <td>5</td>\n",
              "    </tr>\n",
              "    <tr>\n",
              "      <th>46</th>\n",
              "      <td>zh</td>\n",
              "      <td>4</td>\n",
              "    </tr>\n",
              "    <tr>\n",
              "      <th>47</th>\n",
              "      <td>iw</td>\n",
              "      <td>3</td>\n",
              "    </tr>\n",
              "    <tr>\n",
              "      <th>48</th>\n",
              "      <td>th</td>\n",
              "      <td>3</td>\n",
              "    </tr>\n",
              "    <tr>\n",
              "      <th>49</th>\n",
              "      <td>is</td>\n",
              "      <td>2</td>\n",
              "    </tr>\n",
              "    <tr>\n",
              "      <th>50</th>\n",
              "      <td>si</td>\n",
              "      <td>2</td>\n",
              "    </tr>\n",
              "    <tr>\n",
              "      <th>51</th>\n",
              "      <td>hu</td>\n",
              "      <td>1</td>\n",
              "    </tr>\n",
              "    <tr>\n",
              "      <th>52</th>\n",
              "      <td>el</td>\n",
              "      <td>1</td>\n",
              "    </tr>\n",
              "  </tbody>\n",
              "</table>\n",
              "</div>\n",
              "      <button class=\"colab-df-convert\" onclick=\"convertToInteractive('df-d9c4d70a-7b7a-428f-9132-acf016376a30')\"\n",
              "              title=\"Convert this dataframe to an interactive table.\"\n",
              "              style=\"display:none;\">\n",
              "        \n",
              "  <svg xmlns=\"http://www.w3.org/2000/svg\" height=\"24px\"viewBox=\"0 0 24 24\"\n",
              "       width=\"24px\">\n",
              "    <path d=\"M0 0h24v24H0V0z\" fill=\"none\"/>\n",
              "    <path d=\"M18.56 5.44l.94 2.06.94-2.06 2.06-.94-2.06-.94-.94-2.06-.94 2.06-2.06.94zm-11 1L8.5 8.5l.94-2.06 2.06-.94-2.06-.94L8.5 2.5l-.94 2.06-2.06.94zm10 10l.94 2.06.94-2.06 2.06-.94-2.06-.94-.94-2.06-.94 2.06-2.06.94z\"/><path d=\"M17.41 7.96l-1.37-1.37c-.4-.4-.92-.59-1.43-.59-.52 0-1.04.2-1.43.59L10.3 9.45l-7.72 7.72c-.78.78-.78 2.05 0 2.83L4 21.41c.39.39.9.59 1.41.59.51 0 1.02-.2 1.41-.59l7.78-7.78 2.81-2.81c.8-.78.8-2.07 0-2.86zM5.41 20L4 18.59l7.72-7.72 1.47 1.35L5.41 20z\"/>\n",
              "  </svg>\n",
              "      </button>\n",
              "      \n",
              "  <style>\n",
              "    .colab-df-container {\n",
              "      display:flex;\n",
              "      flex-wrap:wrap;\n",
              "      gap: 12px;\n",
              "    }\n",
              "\n",
              "    .colab-df-convert {\n",
              "      background-color: #E8F0FE;\n",
              "      border: none;\n",
              "      border-radius: 50%;\n",
              "      cursor: pointer;\n",
              "      display: none;\n",
              "      fill: #1967D2;\n",
              "      height: 32px;\n",
              "      padding: 0 0 0 0;\n",
              "      width: 32px;\n",
              "    }\n",
              "\n",
              "    .colab-df-convert:hover {\n",
              "      background-color: #E2EBFA;\n",
              "      box-shadow: 0px 1px 2px rgba(60, 64, 67, 0.3), 0px 1px 3px 1px rgba(60, 64, 67, 0.15);\n",
              "      fill: #174EA6;\n",
              "    }\n",
              "\n",
              "    [theme=dark] .colab-df-convert {\n",
              "      background-color: #3B4455;\n",
              "      fill: #D2E3FC;\n",
              "    }\n",
              "\n",
              "    [theme=dark] .colab-df-convert:hover {\n",
              "      background-color: #434B5C;\n",
              "      box-shadow: 0px 1px 3px 1px rgba(0, 0, 0, 0.15);\n",
              "      filter: drop-shadow(0px 1px 2px rgba(0, 0, 0, 0.3));\n",
              "      fill: #FFFFFF;\n",
              "    }\n",
              "  </style>\n",
              "\n",
              "      <script>\n",
              "        const buttonEl =\n",
              "          document.querySelector('#df-d9c4d70a-7b7a-428f-9132-acf016376a30 button.colab-df-convert');\n",
              "        buttonEl.style.display =\n",
              "          google.colab.kernel.accessAllowed ? 'block' : 'none';\n",
              "\n",
              "        async function convertToInteractive(key) {\n",
              "          const element = document.querySelector('#df-d9c4d70a-7b7a-428f-9132-acf016376a30');\n",
              "          const dataTable =\n",
              "            await google.colab.kernel.invokeFunction('convertToInteractive',\n",
              "                                                     [key], {});\n",
              "          if (!dataTable) return;\n",
              "\n",
              "          const docLinkHtml = 'Like what you see? Visit the ' +\n",
              "            '<a target=\"_blank\" href=https://colab.research.google.com/notebooks/data_table.ipynb>data table notebook</a>'\n",
              "            + ' to learn more about interactive tables.';\n",
              "          element.innerHTML = '';\n",
              "          dataTable['output_type'] = 'display_data';\n",
              "          await google.colab.output.renderOutput(dataTable, element);\n",
              "          const docLink = document.createElement('div');\n",
              "          docLink.innerHTML = docLinkHtml;\n",
              "          element.appendChild(docLink);\n",
              "        }\n",
              "      </script>\n",
              "    </div>\n",
              "  </div>\n",
              "  "
            ]
          },
          "metadata": {},
          "execution_count": 16
        }
      ]
    },
    {
      "cell_type": "code",
      "source": [
        "top10lang= le.head(10)\n",
        "print(top10lang)"
      ],
      "metadata": {
        "colab": {
          "base_uri": "https://localhost:8080/"
        },
        "id": "uVFdeamVRoah",
        "outputId": "2698b1c6-a618-42cf-b297-1bbd9aa36486"
      },
      "execution_count": 20,
      "outputs": [
        {
          "output_type": "stream",
          "name": "stdout",
          "text": [
            "  unique_languages  counts\n",
            "0               en  528732\n",
            "1               tl   35072\n",
            "2               hi   34637\n",
            "3               ro    5242\n",
            "4               in    3851\n",
            "5               et    3638\n",
            "6              und    3021\n",
            "7               fr    2923\n",
            "8              qme    2756\n",
            "9               mr    1927\n"
          ]
        }
      ]
    },
    {
      "cell_type": "code",
      "source": [
        "font = {'family':'serif','color':'blue','size':20}\n",
        "font1 = {'family':'serif','color':'green','size':16}\n",
        "\n",
        "plt.bar('unique_languages', 'counts', data=top10lang, width=0.8, bottom=None,  align='center')\n",
        "plt.title(\"Top 10 Languages\", fontdict = font)\n",
        "plt.xlabel('Languages', fontdict=font1)\n",
        "for x, y, text in zip(top10lang['unique_languages'],top10lang['counts'], top10lang['counts']):\n",
        "    plt.text(x, y, text, fontsize= 10)\n",
        "plt.savefig('top10.png', dpi=300, bbox_inches='tight')\n",
        "plt.show()"
      ],
      "metadata": {
        "colab": {
          "base_uri": "https://localhost:8080/",
          "height": 307
        },
        "id": "OBJG7VhuSRse",
        "outputId": "3f5ce129-c69f-43e9-96c9-ac12fb221752"
      },
      "execution_count": 112,
      "outputs": [
        {
          "output_type": "display_data",
          "data": {
            "text/plain": [
              "<Figure size 432x288 with 1 Axes>"
            ],
            "image/png": "[encoded data removed]"
          },
          "metadata": {
            "needs_background": "light"
          }
        }
      ]
    },
    {
      "cell_type": "code",
      "source": [
        "en = raw.loc[raw.lang== \"en\"]"
      ],
      "metadata": {
        "id": "CyISC_7PSdOV"
      },
      "execution_count": 22,
      "outputs": []
    },
    {
      "cell_type": "code",
      "source": [
        "print(en.head())\n",
        "print(f'Number of rows in twitter data: {en.shape[0]}')\n",
        "print(f'Number of values in twitter data:{en.count().sum()}')"
      ],
      "metadata": {
        "colab": {
          "base_uri": "https://localhost:8080/"
        },
        "id": "Wm3vaFkyTIW1",
        "outputId": "3ad43372-d05e-40ae-d1bc-15b34890fe44"
      },
      "execution_count": 23,
      "outputs": [
        {
          "output_type": "stream",
          "name": "stdout",
          "text": [
            "                 created_at lang  like_count  quote_count  \\\n",
            "1  2021-01-02T13:49:32.000Z   en           0            0   \n",
            "2  2021-01-02T13:34:38.000Z   en           0            0   \n",
            "4  2021-01-02T13:03:35.000Z   en           2            0   \n",
            "6  2021-01-02T12:28:17.000Z   en           3            0   \n",
            "7  2021-01-02T12:18:09.000Z   en           0            0   \n",
            "\n",
            "                                                                                                  text  \\\n",
            "1  @PriyankaJShukla @MoHFW_INDIA @drharshvardhan @ChhattisgarhCMO Hi, can you please share the deta...   \n",
            "2  @indiatvnews Could not find #CoWIN #CowinApp on play store.. can you please share the link to do...   \n",
            "4                                                             @Sideshow_Matt @Caorthannach Cowin lush!   \n",
            "6  <U+25B6><U+FE0F> #COVID19 Vaccine Dry Run Held Across India\\r\\n\\r\\n<U+25B6><U+FE0F> Union Minist...   \n",
            "7  Covid vaccination India dry run how to register Cowin mass vaccination drive covishield Oxford A...   \n",
            "\n",
            "   retweet_count  \n",
            "1              0  \n",
            "2              0  \n",
            "4              0  \n",
            "6              0  \n",
            "7              0  \n",
            "Number of rows in twitter data: 528732\n",
            "Number of values in twitter data:3172392\n"
          ]
        }
      ]
    },
    {
      "cell_type": "markdown",
      "source": [
        "#Pre processing *EN* data set"
      ],
      "metadata": {
        "id": "la0BZnwNSkuC"
      }
    },
    {
      "cell_type": "code",
      "source": [
        "en_original= en.loc[en.retweet_count == 0]"
      ],
      "metadata": {
        "id": "kqTaXAcQTlrG"
      },
      "execution_count": 24,
      "outputs": []
    },
    {
      "cell_type": "code",
      "source": [
        "print(f'Number of rows in twitter data: {en_original.shape[0]}')\n",
        "print(f'Number of values in twitter data:{en_original.count().sum()}')"
      ],
      "metadata": {
        "colab": {
          "base_uri": "https://localhost:8080/"
        },
        "id": "Qg2mdeSkTsTD",
        "outputId": "b77fa942-d1aa-432f-e273-ec5fdfb4d203"
      },
      "execution_count": 25,
      "outputs": [
        {
          "output_type": "stream",
          "name": "stdout",
          "text": [
            "Number of rows in twitter data: 492752\n",
            "Number of values in twitter data:2956512\n"
          ]
        }
      ]
    },
    {
      "cell_type": "code",
      "source": [
        "en_original.drop(columns=[\"retweet_count\",\"like_count\"], inplace= True)"
      ],
      "metadata": {
        "id": "vcofK-TKUe-a"
      },
      "execution_count": 26,
      "outputs": []
    },
    {
      "cell_type": "code",
      "source": [
        "def preprocessing(text_col):\n",
        "    \"\"\"This function will apply NLP preprocessing lambda functions over a pandas series such as df['text'].\n",
        "       These functions include converting text to lowercase, removing emojis, expanding contractions, removing punctuation,\n",
        "       removing numbers, removing stopwords, lemmatization, etc.\"\"\"\n",
        "    \n",
        "    # convert to lowercase\n",
        "    text_col = text_col.apply(lambda x: ' '.join([w.lower() for w in x.split()]))\n",
        "    \n",
        "    # remove punctuation\n",
        "    text_col = text_col.apply(lambda x: ''.join([i for i in x if i not in string.punctuation]))\n",
        "    \n",
        "    # remove numbers\n",
        "    text_col = text_col.apply(lambda x: ' '.join(re.sub(\"[^a-zA-Z]+\", \" \", x).split()))\n",
        "\n",
        "    # remove stopwords\n",
        "    stopwords = [sw for sw in nltk.corpus.stopwords.words('english') if sw not in ['not', 'no']]\n",
        "    text_col = text_col.apply(lambda x: ' '.join([w for w in x.split() if w not in stopwords]))\n",
        "\n",
        "    # remove short words\n",
        "    text_col = text_col.apply(lambda x: ' '.join([w.strip() for w in x.split() if len(w.strip()) >= 3]))\n",
        "\n",
        "    return text_col"
      ],
      "metadata": {
        "id": "cf98YWHBTv1X"
      },
      "execution_count": 27,
      "outputs": []
    },
    {
      "cell_type": "code",
      "source": [
        "en_original[\"text_pr\"]= en_original[['text']].apply(preprocessing)"
      ],
      "metadata": {
        "id": "vwUcR-lIUrjb"
      },
      "execution_count": 28,
      "outputs": []
    },
    {
      "cell_type": "code",
      "source": [
        "print(en_original.head())"
      ],
      "metadata": {
        "colab": {
          "base_uri": "https://localhost:8080/"
        },
        "id": "4f9u2AQoU099",
        "outputId": "bc323d98-5db5-4fe9-cb35-fb9aca8d550a"
      },
      "execution_count": 29,
      "outputs": [
        {
          "output_type": "stream",
          "name": "stdout",
          "text": [
            "                 created_at lang  quote_count  \\\n",
            "1  2021-01-02T13:49:32.000Z   en            0   \n",
            "2  2021-01-02T13:34:38.000Z   en            0   \n",
            "4  2021-01-02T13:03:35.000Z   en            0   \n",
            "6  2021-01-02T12:28:17.000Z   en            0   \n",
            "7  2021-01-02T12:18:09.000Z   en            0   \n",
            "\n",
            "                                                                                                  text  \\\n",
            "1  @PriyankaJShukla @MoHFW_INDIA @drharshvardhan @ChhattisgarhCMO Hi, can you please share the deta...   \n",
            "2  @indiatvnews Could not find #CoWIN #CowinApp on play store.. can you please share the link to do...   \n",
            "4                                                             @Sideshow_Matt @Caorthannach Cowin lush!   \n",
            "6  <U+25B6><U+FE0F> #COVID19 Vaccine Dry Run Held Across India\\r\\n\\r\\n<U+25B6><U+FE0F> Union Minist...   \n",
            "7  Covid vaccination India dry run how to register Cowin mass vaccination drive covishield Oxford A...   \n",
            "\n",
            "                                                                                               text_pr  \n",
            "1             priyankajshukla mohfwindia drharshvardhan chhattisgarhcmo please share details app cowin  \n",
            "2     indiatvnews could not find cowin cowinapp play store please share link download httpstco eonrcut  \n",
            "4                                                                 sideshowmatt caorthannach cowin lush  \n",
            "6  ufe covid vaccine dry run held across india ufe union minister shri drharshvardhan visits gtb ho...  \n",
            "7  covid vaccination india dry run register cowin mass vaccination drive covishield oxford astrazen...  \n"
          ]
        }
      ]
    },
    {
      "cell_type": "markdown",
      "source": [
        "##Things to do \n",
        "\n",
        "1.   Hashtag extraction\n",
        "2.   is every tweet has cowin \n",
        "3.   If now delete the data which doesnt has word `cowin`\n",
        "4.   Time and date classification\n",
        "\n"
      ],
      "metadata": {
        "id": "rkFH121mW0JL"
      }
    },
    {
      "cell_type": "code",
      "source": [
        "def has(rate):\n",
        "    text=rate\n",
        "    return re.findall(\"(#\\w+)\",text)"
      ],
      "metadata": {
        "id": "BS0vgozvYBwK"
      },
      "execution_count": 31,
      "outputs": []
    },
    {
      "cell_type": "code",
      "source": [
        "en_original[\"hashtag\"]= en_original['text'].apply(has)"
      ],
      "metadata": {
        "id": "pdFPO_HwYB-O"
      },
      "execution_count": 33,
      "outputs": []
    },
    {
      "cell_type": "code",
      "source": [
        "en_original[\"hashtag\"].head()"
      ],
      "metadata": {
        "colab": {
          "base_uri": "https://localhost:8080/"
        },
        "id": "G_a4EpfyU42G",
        "outputId": "5377e3a9-0bd5-411f-94b1-41320332d833"
      },
      "execution_count": 36,
      "outputs": [
        {
          "output_type": "execute_result",
          "data": {
            "text/plain": [
              "1                     []\n",
              "2    [#CoWIN, #CowinApp]\n",
              "4                     []\n",
              "6     [#COVID19, #CoWIN]\n",
              "7                     []\n",
              "Name: hashtag, dtype: object"
            ]
          },
          "metadata": {},
          "execution_count": 36
        }
      ]
    },
    {
      "cell_type": "code",
      "source": [
        "def cowin(name):\n",
        "  text= name\n",
        "  return re.findall(\"cowin\", text)"
      ],
      "metadata": {
        "id": "RQHKK0CdX9IS"
      },
      "execution_count": 91,
      "outputs": []
    },
    {
      "cell_type": "code",
      "source": [
        "en_original[\"cowin\"]= en_original['text_pr'].apply(cowin)"
      ],
      "metadata": {
        "id": "aROFAYVhYimy"
      },
      "execution_count": 92,
      "outputs": []
    },
    {
      "cell_type": "code",
      "source": [
        "en_original[\"cowin\"].value_counts()"
      ],
      "metadata": {
        "colab": {
          "base_uri": "https://localhost:8080/",
          "height": 446
        },
        "id": "SdIycEEAYn9u",
        "outputId": "5debe577-1fa5-4cc4-c17b-aa3f3bd34ba0"
      },
      "execution_count": 39,
      "outputs": [
        {
          "output_type": "error",
          "ename": "TypeError",
          "evalue": "ignored",
          "traceback": [
            "\u001b[0;31m---------------------------------------------------------------------------\u001b[0m",
            "\u001b[0;31mTypeError\u001b[0m                                 Traceback (most recent call last)",
            "\u001b[0;32mpandas/_libs/hashtable_class_helper.pxi\u001b[0m in \u001b[0;36mpandas._libs.hashtable.PyObjectHashTable.map_locations\u001b[0;34m()\u001b[0m\n",
            "\u001b[0;31mTypeError\u001b[0m: unhashable type: 'list'"
          ]
        },
        {
          "output_type": "stream",
          "name": "stderr",
          "text": [
            "Exception ignored in: 'pandas._libs.index.IndexEngine._call_map_locations'\n",
            "Traceback (most recent call last):\n",
            "  File \"pandas/_libs/hashtable_class_helper.pxi\", line 5231, in pandas._libs.hashtable.PyObjectHashTable.map_locations\n",
            "TypeError: unhashable type: 'list'\n"
          ]
        },
        {
          "output_type": "execute_result",
          "data": {
            "text/plain": [
              "[cowin]                                                            368242\n",
              "[]                                                                  73343\n",
              "[cowin, cowin]                                                      47946\n",
              "[cowin, cowin, cowin]                                                2380\n",
              "[cowin, cowin, cowin, cowin]                                          630\n",
              "[cowin, cowin, cowin, cowin, cowin]                                   152\n",
              "[cowin, cowin, cowin, cowin, cowin, cowin]                             36\n",
              "[cowin, cowin, cowin, cowin, cowin, cowin, cowin]                      16\n",
              "[cowin, cowin, cowin, cowin, cowin, cowin, cowin, cowin]                4\n",
              "[cowin, cowin, cowin, cowin, cowin, cowin, cowin, cowin, cowin]         3\n",
              "Name: cowin, dtype: int64"
            ]
          },
          "metadata": {},
          "execution_count": 39
        }
      ]
    },
    {
      "cell_type": "code",
      "source": [
        "en_cowin= en_original[en_original.text_pr.str.contains('cowin')]"
      ],
      "metadata": {
        "id": "1qnYRQ7iiply"
      },
      "execution_count": 93,
      "outputs": []
    },
    {
      "cell_type": "code",
      "source": [
        "en_cowin.head()"
      ],
      "metadata": {
        "colab": {
          "base_uri": "https://localhost:8080/",
          "height": 756
        },
        "id": "2X8nLCJdeGmJ",
        "outputId": "7939fd1c-d4ce-4dfd-b4a4-ac9b22d67f9b"
      },
      "execution_count": 94,
      "outputs": [
        {
          "output_type": "execute_result",
          "data": {
            "text/plain": [
              "                 created_at lang  quote_count  \\\n",
              "1  2021-01-02T13:49:32.000Z   en            0   \n",
              "2  2021-01-02T13:34:38.000Z   en            0   \n",
              "4  2021-01-02T13:03:35.000Z   en            0   \n",
              "6  2021-01-02T12:28:17.000Z   en            0   \n",
              "7  2021-01-02T12:18:09.000Z   en            0   \n",
              "\n",
              "                                                                                                  text  \\\n",
              "1  @PriyankaJShukla @MoHFW_INDIA @drharshvardhan @ChhattisgarhCMO Hi, can you please share the deta...   \n",
              "2  @indiatvnews Could not find #CoWIN #CowinApp on play store.. can you please share the link to do...   \n",
              "4                                                             @Sideshow_Matt @Caorthannach Cowin lush!   \n",
              "6  <U+25B6><U+FE0F> #COVID19 Vaccine Dry Run Held Across India\\r\\n\\r\\n<U+25B6><U+FE0F> Union Minist...   \n",
              "7  Covid vaccination India dry run how to register Cowin mass vaccination drive covishield Oxford A...   \n",
              "\n",
              "                                                                                               text_pr  \\\n",
              "1             priyankajshukla mohfwindia drharshvardhan chhattisgarhcmo please share details app cowin   \n",
              "2     indiatvnews could not find cowin cowinapp play store please share link download httpstco eonrcut   \n",
              "4                                                                 sideshowmatt caorthannach cowin lush   \n",
              "6  ufe covid vaccine dry run held across india ufe union minister shri drharshvardhan visits gtb ho...   \n",
              "7  covid vaccination india dry run register cowin mass vaccination drive covishield oxford astrazen...   \n",
              "\n",
              "               hashtag           cowin  \n",
              "1                   []         [cowin]  \n",
              "2  [#CoWIN, #CowinApp]  [cowin, cowin]  \n",
              "4                   []         [cowin]  \n",
              "6   [#COVID19, #CoWIN]         [cowin]  \n",
              "7                   []         [cowin]  "
            ],
            "text/html": [
              "\n",
              "  <div id=\"df-ff8cb3e7-b3cf-4f21-ab25-fc1e72e5590f\">\n",
              "    <div class=\"colab-df-container\">\n",
              "      <div>\n",
              "<style scoped>\n",
              "    .dataframe tbody tr th:only-of-type {\n",
              "        vertical-align: middle;\n",
              "    }\n",
              "\n",
              "    .dataframe tbody tr th {\n",
              "        vertical-align: top;\n",
              "    }\n",
              "\n",
              "    .dataframe thead th {\n",
              "        text-align: right;\n",
              "    }\n",
              "</style>\n",
              "<table border=\"1\" class=\"dataframe\">\n",
              "  <thead>\n",
              "    <tr style=\"text-align: right;\">\n",
              "      <th></th>\n",
              "      <th>created_at</th>\n",
              "      <th>lang</th>\n",
              "      <th>quote_count</th>\n",
              "      <th>text</th>\n",
              "      <th>text_pr</th>\n",
              "      <th>hashtag</th>\n",
              "      <th>cowin</th>\n",
              "    </tr>\n",
              "  </thead>\n",
              "  <tbody>\n",
              "    <tr>\n",
              "      <th>1</th>\n",
              "      <td>2021-01-02T13:49:32.000Z</td>\n",
              "      <td>en</td>\n",
              "      <td>0</td>\n",
              "      <td>@PriyankaJShukla @MoHFW_INDIA @drharshvardhan @ChhattisgarhCMO Hi, can you please share the deta...</td>\n",
              "      <td>priyankajshukla mohfwindia drharshvardhan chhattisgarhcmo please share details app cowin</td>\n",
              "      <td>[]</td>\n",
              "      <td>[cowin]</td>\n",
              "    </tr>\n",
              "    <tr>\n",
              "      <th>2</th>\n",
              "      <td>2021-01-02T13:34:38.000Z</td>\n",
              "      <td>en</td>\n",
              "      <td>0</td>\n",
              "      <td>@indiatvnews Could not find #CoWIN #CowinApp on play store.. can you please share the link to do...</td>\n",
              "      <td>indiatvnews could not find cowin cowinapp play store please share link download httpstco eonrcut</td>\n",
              "      <td>[#CoWIN, #CowinApp]</td>\n",
              "      <td>[cowin, cowin]</td>\n",
              "    </tr>\n",
              "    <tr>\n",
              "      <th>4</th>\n",
              "      <td>2021-01-02T13:03:35.000Z</td>\n",
              "      <td>en</td>\n",
              "      <td>0</td>\n",
              "      <td>@Sideshow_Matt @Caorthannach Cowin lush!</td>\n",
              "      <td>sideshowmatt caorthannach cowin lush</td>\n",
              "      <td>[]</td>\n",
              "      <td>[cowin]</td>\n",
              "    </tr>\n",
              "    <tr>\n",
              "      <th>6</th>\n",
              "      <td>2021-01-02T12:28:17.000Z</td>\n",
              "      <td>en</td>\n",
              "      <td>0</td>\n",
              "      <td>&lt;U+25B6&gt;&lt;U+FE0F&gt; #COVID19 Vaccine Dry Run Held Across India\\r\\n\\r\\n&lt;U+25B6&gt;&lt;U+FE0F&gt; Union Minist...</td>\n",
              "      <td>ufe covid vaccine dry run held across india ufe union minister shri drharshvardhan visits gtb ho...</td>\n",
              "      <td>[#COVID19, #CoWIN]</td>\n",
              "      <td>[cowin]</td>\n",
              "    </tr>\n",
              "    <tr>\n",
              "      <th>7</th>\n",
              "      <td>2021-01-02T12:18:09.000Z</td>\n",
              "      <td>en</td>\n",
              "      <td>0</td>\n",
              "      <td>Covid vaccination India dry run how to register Cowin mass vaccination drive covishield Oxford A...</td>\n",
              "      <td>covid vaccination india dry run register cowin mass vaccination drive covishield oxford astrazen...</td>\n",
              "      <td>[]</td>\n",
              "      <td>[cowin]</td>\n",
              "    </tr>\n",
              "  </tbody>\n",
              "</table>\n",
              "</div>\n",
              "      <button class=\"colab-df-convert\" onclick=\"convertToInteractive('df-ff8cb3e7-b3cf-4f21-ab25-fc1e72e5590f')\"\n",
              "              title=\"Convert this dataframe to an interactive table.\"\n",
              "              style=\"display:none;\">\n",
              "        \n",
              "  <svg xmlns=\"http://www.w3.org/2000/svg\" height=\"24px\"viewBox=\"0 0 24 24\"\n",
              "       width=\"24px\">\n",
              "    <path d=\"M0 0h24v24H0V0z\" fill=\"none\"/>\n",
              "    <path d=\"M18.56 5.44l.94 2.06.94-2.06 2.06-.94-2.06-.94-.94-2.06-.94 2.06-2.06.94zm-11 1L8.5 8.5l.94-2.06 2.06-.94-2.06-.94L8.5 2.5l-.94 2.06-2.06.94zm10 10l.94 2.06.94-2.06 2.06-.94-2.06-.94-.94-2.06-.94 2.06-2.06.94z\"/><path d=\"M17.41 7.96l-1.37-1.37c-.4-.4-.92-.59-1.43-.59-.52 0-1.04.2-1.43.59L10.3 9.45l-7.72 7.72c-.78.78-.78 2.05 0 2.83L4 21.41c.39.39.9.59 1.41.59.51 0 1.02-.2 1.41-.59l7.78-7.78 2.81-2.81c.8-.78.8-2.07 0-2.86zM5.41 20L4 18.59l7.72-7.72 1.47 1.35L5.41 20z\"/>\n",
              "  </svg>\n",
              "      </button>\n",
              "      \n",
              "  <style>\n",
              "    .colab-df-container {\n",
              "      display:flex;\n",
              "      flex-wrap:wrap;\n",
              "      gap: 12px;\n",
              "    }\n",
              "\n",
              "    .colab-df-convert {\n",
              "      background-color: #E8F0FE;\n",
              "      border: none;\n",
              "      border-radius: 50%;\n",
              "      cursor: pointer;\n",
              "      display: none;\n",
              "      fill: #1967D2;\n",
              "      height: 32px;\n",
              "      padding: 0 0 0 0;\n",
              "      width: 32px;\n",
              "    }\n",
              "\n",
              "    .colab-df-convert:hover {\n",
              "      background-color: #E2EBFA;\n",
              "      box-shadow: 0px 1px 2px rgba(60, 64, 67, 0.3), 0px 1px 3px 1px rgba(60, 64, 67, 0.15);\n",
              "      fill: #174EA6;\n",
              "    }\n",
              "\n",
              "    [theme=dark] .colab-df-convert {\n",
              "      background-color: #3B4455;\n",
              "      fill: #D2E3FC;\n",
              "    }\n",
              "\n",
              "    [theme=dark] .colab-df-convert:hover {\n",
              "      background-color: #434B5C;\n",
              "      box-shadow: 0px 1px 3px 1px rgba(0, 0, 0, 0.15);\n",
              "      filter: drop-shadow(0px 1px 2px rgba(0, 0, 0, 0.3));\n",
              "      fill: #FFFFFF;\n",
              "    }\n",
              "  </style>\n",
              "\n",
              "      <script>\n",
              "        const buttonEl =\n",
              "          document.querySelector('#df-ff8cb3e7-b3cf-4f21-ab25-fc1e72e5590f button.colab-df-convert');\n",
              "        buttonEl.style.display =\n",
              "          google.colab.kernel.accessAllowed ? 'block' : 'none';\n",
              "\n",
              "        async function convertToInteractive(key) {\n",
              "          const element = document.querySelector('#df-ff8cb3e7-b3cf-4f21-ab25-fc1e72e5590f');\n",
              "          const dataTable =\n",
              "            await google.colab.kernel.invokeFunction('convertToInteractive',\n",
              "                                                     [key], {});\n",
              "          if (!dataTable) return;\n",
              "\n",
              "          const docLinkHtml = 'Like what you see? Visit the ' +\n",
              "            '<a target=\"_blank\" href=https://colab.research.google.com/notebooks/data_table.ipynb>data table notebook</a>'\n",
              "            + ' to learn more about interactive tables.';\n",
              "          element.innerHTML = '';\n",
              "          dataTable['output_type'] = 'display_data';\n",
              "          await google.colab.output.renderOutput(dataTable, element);\n",
              "          const docLink = document.createElement('div');\n",
              "          docLink.innerHTML = docLinkHtml;\n",
              "          element.appendChild(docLink);\n",
              "        }\n",
              "      </script>\n",
              "    </div>\n",
              "  </div>\n",
              "  "
            ]
          },
          "metadata": {},
          "execution_count": 94
        }
      ]
    },
    {
      "cell_type": "code",
      "source": [
        "#lets dorp the cowin column\n",
        "\n",
        "en_cowin.drop(columns=[\"cowin\"], inplace= True)"
      ],
      "metadata": {
        "id": "HhplQk3wh-2-"
      },
      "execution_count": 96,
      "outputs": []
    },
    {
      "cell_type": "code",
      "source": [
        "en_cowin['created_at']= pd.to_datetime(en_cowin['created_at'], errors='coerce')\n",
        "en_cowin['month']=en_cowin['created_at'].dt.month"
      ],
      "metadata": {
        "id": "c-_3D1HQtS9b"
      },
      "execution_count": 99,
      "outputs": []
    },
    {
      "cell_type": "code",
      "source": [
        "value_counts=en_cowin['month'].value_counts()\n",
        "value_counts = value_counts.rename_axis('month').reset_index(name='counts')\n",
        "print (value_counts)"
      ],
      "metadata": {
        "colab": {
          "base_uri": "https://localhost:8080/"
        },
        "id": "07VKinMYtuob",
        "outputId": "d7642140-8ef7-4a46-9768-5a6901de8834"
      },
      "execution_count": 104,
      "outputs": [
        {
          "output_type": "stream",
          "name": "stdout",
          "text": [
            "    month  counts\n",
            "0       7  128733\n",
            "1       8  107910\n",
            "2       6   66169\n",
            "3       5   53965\n",
            "4       4   21067\n",
            "5       9   18791\n",
            "6      10    9618\n",
            "7       3    5531\n",
            "8      12    2576\n",
            "9       1    2073\n",
            "10     11    1770\n",
            "11      2    1206\n"
          ]
        }
      ]
    },
    {
      "cell_type": "code",
      "source": [
        "plt.figure(figsize=(16,6))\n",
        "ax=sns.lineplot(x='month',y='counts', color=\"coral\", data=value_counts,estimator=None,markers=True)\n",
        "for x, y, text in zip(value_counts['month'],value_counts['counts'], value_counts['counts']):\n",
        "    plt.text(x, y, text, fontsize= 12)\n",
        "plt.savefig('month_flow.png', dpi=300, bbox_inches='tight')\n"
      ],
      "metadata": {
        "colab": {
          "base_uri": "https://localhost:8080/",
          "height": 258
        },
        "id": "cvsrvN3itydK",
        "outputId": "b0b68789-664d-4791-ea50-0ed5d264f00f"
      },
      "execution_count": 107,
      "outputs": [
        {
          "output_type": "display_data",
          "data": {
            "text/plain": [
              "<Figure size 1152x432 with 1 Axes>"
            ],
            "image/png": "[encoded data removed]"
          },
          "metadata": {
            "needs_background": "light"
          }
        }
      ]
    },
    {
      "cell_type": "code",
      "source": [
        "en_cowin[\"hashtag\"]=en_cowin[\"hashtag\"].astype(str)\n",
        "wordcloud = WordCloud(height=2000, width=2000,stopwords=set(stopwords.words('english')), background_color='white')\n",
        "wordcloud = wordcloud.generate(' '.join(en_cowin[\"hashtag\"].tolist()))\n",
        "plt.imshow(wordcloud)\n",
        "plt.title(\"popular hashtags\")\n",
        "wordcloud.to_file(\"hashtag.png\")\n",
        "\n",
        "plt.axis('off')\n",
        "plt.show()"
      ],
      "metadata": {
        "colab": {
          "base_uri": "https://localhost:8080/",
          "height": 264
        },
        "id": "c5MZKPvZ4H1V",
        "outputId": "0c691d9c-5ddc-4d78-d0e8-b34e748e9a9f"
      },
      "execution_count": 108,
      "outputs": [
        {
          "output_type": "display_data",
          "data": {
            "text/plain": [
              "<Figure size 432x288 with 1 Axes>"
            ],
            "image/png": "[encoded data removed]"
          },
          "metadata": {
            "needs_background": "light"
          }
        }
      ]
    },
    {
      "cell_type": "code",
      "source": [
        "en_cowin.columns"
      ],
      "metadata": {
        "colab": {
          "base_uri": "https://localhost:8080/"
        },
        "id": "eZUVezqx5FmW",
        "outputId": "d2ed1f22-bad0-45c8-9161-955025c2cd30"
      },
      "execution_count": 116,
      "outputs": [
        {
          "output_type": "execute_result",
          "data": {
            "text/plain": [
              "Index(['lang', 'quote_count', 'text', 'text_pr', 'hashtag', 'date', 'month'], dtype='object')"
            ]
          },
          "metadata": {},
          "execution_count": 116
        }
      ]
    },
    {
      "cell_type": "code",
      "source": [
        "#let's drop created_at and save the file \n",
        "en_cowin.drop(columns=[\"created_at\"], inplace= True)"
      ],
      "metadata": {
        "id": "yQ_5gQ7-662O"
      },
      "execution_count": 115,
      "outputs": []
    },
    {
      "cell_type": "code",
      "source": [
        "en_cowin.to_csv(\"clean_cowin_jan_dec.csv\")"
      ],
      "metadata": {
        "id": "FcRg4CNk7Qoe"
      },
      "execution_count": 117,
      "outputs": []
    },
    {
      "cell_type": "code",
      "source": [],
      "metadata": {
        "id": "HNChZz4C7ayz"
      },
      "execution_count": null,
      "outputs": []
    }
  ],
  "metadata": {
    "colab": {
      "provenance": [],
      "authorship_tag": "ABX9TyPy7CiQ2/2UrD2I/bOevdr3",
      "include_colab_link": true
    },
    "kernelspec": {
      "display_name": "Python 3",
      "name": "python3"
    },
    "language_info": {
      "name": "python"
    }
  },
  "nbformat": 4,
  "nbformat_minor": 0
}